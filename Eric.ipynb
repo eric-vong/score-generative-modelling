{
 "cells": [
  {
   "cell_type": "code",
   "execution_count": 1,
   "id": "13f1973d-4718-426c-8324-1b24bbd3e296",
   "metadata": {},
   "outputs": [],
   "source": [
    "# !pip install datasets\n",
    "# !pip install torch\n",
    "# !pip install torchvision"
   ]
  },
  {
   "cell_type": "code",
   "execution_count": 1,
   "id": "da628cc8-14ff-4dd3-9876-78885470801c",
   "metadata": {
    "tags": []
   },
   "outputs": [
    {
     "name": "stderr",
     "output_type": "stream",
     "text": [
      "Found cached dataset cats_vs_dogs (/home/onyxia/.cache/huggingface/datasets/cats_vs_dogs/default/1.0.0/d4fe9cf31b294ed8639aa58f7d8ee13fe189011837038ed9a774fde19a911fcb)\n"
     ]
    }
   ],
   "source": [
    "from datasets import load_dataset\n",
    "import torchvision.transforms as transforms\n",
    "from utils.dataset import resize\n",
    "import torch\n",
    "import functools\n",
    "from torch.optim import Adam\n",
    "from torch.utils.data import DataLoader\n",
    "import torchvision.transforms as transforms\n",
    "from torchvision.datasets import MNIST\n",
    "import tqdm\n",
    "import utils.constant as c\n",
    "from torchvision.utils import make_grid\n",
    "import utils.network as n\n",
    "import numpy as np"
   ]
  },
  {
   "cell_type": "code",
   "execution_count": 2,
   "id": "a4f15ee7-3267-4265-a195-6e86fab88f0b",
   "metadata": {
    "tags": []
   },
   "outputs": [],
   "source": [
    "batch_size = c.batch_size\n",
    "n_epochs = c.n_epochs\n",
    "lr = c.lr\n",
    "\n",
    "device = c.device\n",
    "sample_batch_size = c.sample_batch_size\n",
    "\n",
    "sigma = c.sigma"
   ]
  },
  {
   "cell_type": "code",
   "execution_count": 4,
   "id": "594cc32c-840f-41fc-8ad9-ca9a4d913200",
   "metadata": {
    "tags": []
   },
   "outputs": [
    {
     "name": "stderr",
     "output_type": "stream",
     "text": [
      "Found cached dataset cats_vs_dogs (/home/onyxia/.cache/huggingface/datasets/cats_vs_dogs/default/1.0.0/d4fe9cf31b294ed8639aa58f7d8ee13fe189011837038ed9a774fde19a911fcb)\n"
     ]
    }
   ],
   "source": [
    "dataset = load_dataset(\"cats_vs_dogs\", split=\"train\")\n",
    "dataset.set_format(type=\"torch\")\n",
    "dataset.set_transform(resize)\n",
    "data_loader = DataLoader(dataset, batch_size=batch_size, shuffle=True, num_workers=4)"
   ]
  },
  {
   "cell_type": "code",
   "execution_count": 3,
   "id": "3f0ea3c0-d7f8-4ddb-a81c-fc3889c04202",
   "metadata": {
    "tags": []
   },
   "outputs": [],
   "source": [
    "from torchvision.datasets import MNIST\n",
    "\n",
    "dataset = MNIST(\".\", train=True, transform=transforms.ToTensor(), download=True)\n",
    "data_loader = DataLoader(dataset, batch_size=batch_size, shuffle=True, num_workers=4)"
   ]
  },
  {
   "cell_type": "code",
   "execution_count": 17,
   "id": "f649f43f-1342-4f0a-9292-833eb6b3225d",
   "metadata": {
    "tags": []
   },
   "outputs": [],
   "source": [
    "def marginal_prob_std(t, sigma):\n",
    "    \"\"\"\n",
    "    Compute the mean and standard deviation of $p_{0t}(x(t) | x(0))$.\n",
    "\n",
    "    Args:    \n",
    "        t: A vector of time steps.\n",
    "        sigma: The $\\sigma$ in our SDE.  \n",
    "\n",
    "    Returns:\n",
    "        The standard deviation.\n",
    "    \"\"\"    \n",
    "    t = torch.tensor(t, device=device)\n",
    "    return torch.sqrt((sigma**(2 * t) - 1.) / 2. / np.log(sigma))\n",
    "\n",
    "def diffusion_coeff(t, sigma):\n",
    "    \"\"\"\n",
    "    Compute the diffusion coefficient of our SDE.\n",
    "\n",
    "    Args:\n",
    "    t: A vector of time steps.\n",
    "    sigma: The $\\sigma$ in our SDE.\n",
    "  \n",
    "    Returns:\n",
    "    The vector of diffusion coefficients.\n",
    "    \"\"\"\n",
    "    return torch.tensor(sigma**t, device=device)\n",
    "  \n",
    "marginal_prob_std_fn = functools.partial(marginal_prob_std, sigma=sigma)\n",
    "diffusion_coeff_fn = functools.partial(diffusion_coeff, sigma=sigma)"
   ]
  },
  {
   "cell_type": "code",
   "execution_count": null,
   "id": "c1cbb8ee-46a1-429f-bbf3-f14be4a910bc",
   "metadata": {
    "tags": []
   },
   "outputs": [
    {
     "data": {
      "application/vnd.jupyter.widget-view+json": {
       "model_id": "b5b3ee1be68b47f984745a39c7af98a4",
       "version_major": 2,
       "version_minor": 0
      },
      "text/plain": [
       "  0%|          | 0/50 [00:00<?, ?it/s]"
      ]
     },
     "metadata": {},
     "output_type": "display_data"
    },
    {
     "name": "stderr",
     "output_type": "stream",
     "text": [
      "/tmp/ipykernel_9265/1487798754.py:12: UserWarning: To copy construct from a tensor, it is recommended to use sourceTensor.clone().detach() or sourceTensor.clone().detach().requires_grad_(True), rather than torch.tensor(sourceTensor).\n",
      "  t = torch.tensor(t, device=device)\n"
     ]
    }
   ],
   "source": [
    "score_model = torch.nn.DataParallel(\n",
    "    n.ScoreNet(marginal_prob_std=marginal_prob_std_fn)\n",
    ")\n",
    "score_model = score_model.to(device)\n",
    "\n",
    "optimizer = Adam(score_model.parameters(), lr=lr)\n",
    "tqdm_epoch = tqdm.notebook.trange(n_epochs)\n",
    "for epoch in tqdm_epoch:\n",
    "    avg_loss = 0.0\n",
    "    num_items = 0\n",
    "    for batch in data_loader:\n",
    "        x, y = batch\n",
    "        x = x.to(device)\n",
    "        loss = n.loss_fn(score_model, x, marginal_prob_std_fn)\n",
    "        optimizer.zero_grad()\n",
    "        loss.backward()\n",
    "        optimizer.step()\n",
    "        avg_loss += loss.item() * x.shape[0]\n",
    "        num_items += x.shape[0]\n",
    "    # Print the averaged training loss so far.\n",
    "    tqdm_epoch.set_description(\"Average Loss: {:5f}\".format(avg_loss / num_items))\n",
    "    # Update the checkpoint after each epoch of training.\n",
    "    torch.save(score_model.state_dict(), \"ckpt.pth\")"
   ]
  },
  {
   "cell_type": "code",
   "execution_count": null,
   "id": "bdaaaf1e-b04c-4855-bdb1-8ed0b8457bca",
   "metadata": {
    "tags": []
   },
   "outputs": [],
   "source": [
    "ckpt = torch.load(\"ckpt.pth\", map_location=device)\n",
    "score_model.load_state_dict(ckpt)\n",
    "\n",
    "from utils.solvers import ode_sampler, pc_sampler, Euler_Maruyama_sampler\n",
    "\n",
    "sampler = ode_sampler  # ['Euler_Maruyama_sampler', 'pc_sampler', 'ode_sampler']\n",
    "\n",
    "## Generate samples using the specified sampler.\n",
    "samples = sampler(\n",
    "    score_model,\n",
    "    marginal_prob_std_fn,\n",
    "    diffusion_coeff_fn,\n",
    "    sample_batch_size,\n",
    "    device=device,\n",
    ")\n",
    "\n",
    "## Sample visualization.\n",
    "samples = samples.clamp(0.0, 1.0)\n",
    "%matplotlib inline\n",
    "import matplotlib.pyplot as plt\n",
    "\n",
    "sample_grid = make_grid(samples, nrow=int(np.sqrt(sample_batch_size)))\n",
    "\n",
    "plt.figure(figsize=(6, 6))\n",
    "plt.axis(\"off\")\n",
    "plt.imshow(sample_grid.permute(1, 2, 0).cpu(), vmin=0.0, vmax=1.0)\n",
    "plt.show()"
   ]
  }
 ],
 "metadata": {
  "kernelspec": {
   "display_name": "Python 3 (ipykernel)",
   "language": "python",
   "name": "python3"
  },
  "language_info": {
   "codemirror_mode": {
    "name": "ipython",
    "version": 3
   },
   "file_extension": ".py",
   "mimetype": "text/x-python",
   "name": "python",
   "nbconvert_exporter": "python",
   "pygments_lexer": "ipython3",
   "version": "3.10.9"
  }
 },
 "nbformat": 4,
 "nbformat_minor": 5
}
