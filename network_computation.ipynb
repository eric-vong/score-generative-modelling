{
 "cells": [
  {
   "cell_type": "code",
   "execution_count": 1,
   "id": "13f1973d-4718-426c-8324-1b24bbd3e296",
   "metadata": {
    "tags": []
   },
   "outputs": [],
   "source": [
    "# !pip install datasets\n",
    "# !pip install torch\n",
    "# !pip install torchvision\n",
    "# !pip install scipy\n",
    "# !pip install matplotlib"
   ]
  },
  {
   "cell_type": "code",
   "execution_count": 1,
   "id": "f05a33a9-8eb3-472a-82ba-4c05372b36c4",
   "metadata": {
    "tags": []
   },
   "outputs": [],
   "source": [
    "%load_ext autoreload\n",
    "%autoreload 2"
   ]
  },
  {
   "cell_type": "code",
   "execution_count": 1,
   "id": "da628cc8-14ff-4dd3-9876-78885470801c",
   "metadata": {
    "tags": []
   },
   "outputs": [],
   "source": [
    "from datasets import load_dataset\n",
    "import torchvision.transforms as transforms\n",
    "from utils.dataset import resize\n",
    "import torch\n",
    "import functools\n",
    "from torch.optim import Adam\n",
    "from torch.utils.data import DataLoader\n",
    "import torchvision.transforms as transforms\n",
    "import tqdm\n",
    "import utils.constant as c\n",
    "from torchvision.utils import make_grid\n",
    "import utils.network as n\n",
    "import numpy as np"
   ]
  },
  {
   "cell_type": "code",
   "execution_count": 3,
   "id": "a4f15ee7-3267-4265-a195-6e86fab88f0b",
   "metadata": {
    "tags": []
   },
   "outputs": [],
   "source": [
    "batch_size = c.batch_size\n",
    "n_epochs = c.n_epochs\n",
    "lr = c.lr\n",
    "\n",
    "device = c.device\n",
    "sample_batch_size = c.sample_batch_size\n",
    "\n",
    "sigma = c.sigma"
   ]
  },
  {
   "cell_type": "code",
   "execution_count": 4,
   "id": "16dd34ef-f139-4925-9e13-902bf3c8043d",
   "metadata": {
    "tags": []
   },
   "outputs": [
    {
     "name": "stderr",
     "output_type": "stream",
     "text": [
      "Found cached dataset cats_vs_dogs (/home/onyxia/.cache/huggingface/datasets/cats_vs_dogs/default/1.0.0/d4fe9cf31b294ed8639aa58f7d8ee13fe189011837038ed9a774fde19a911fcb)\n"
     ]
    }
   ],
   "source": [
    "dataset = load_dataset(\"cats_vs_dogs\", split=\"train\")\n",
    "dataset.set_format(type=\"torch\")\n",
    "dataset.set_transform(resize)\n",
    "data_loader = DataLoader(dataset, batch_size=batch_size, shuffle=True, num_workers=0)"
   ]
  },
  {
   "cell_type": "code",
   "execution_count": 5,
   "id": "f649f43f-1342-4f0a-9292-833eb6b3225d",
   "metadata": {
    "tags": []
   },
   "outputs": [],
   "source": [
    "def marginal_prob_std(t, sigma):\n",
    "    \"\"\"\n",
    "    Compute the mean and standard deviation of $p_{0t}(x(t) | x(0))$.\n",
    "\n",
    "    Args:    \n",
    "        t: A vector of time steps.\n",
    "        sigma: The $\\sigma$ in our SDE.  \n",
    "\n",
    "    Returns:\n",
    "        The standard deviation.\n",
    "    \"\"\"    \n",
    "    t = torch.tensor(t, device=device)\n",
    "    return torch.sqrt((sigma**(2 * t) - 1.) / 2. / np.log(sigma))\n",
    "\n",
    "def diffusion_coeff(t, sigma):\n",
    "    \"\"\"\n",
    "    Compute the diffusion coefficient of our SDE.\n",
    "\n",
    "    Args:\n",
    "    t: A vector of time steps.\n",
    "    sigma: The $\\sigma$ in our SDE.\n",
    "  \n",
    "    Returns:\n",
    "    The vector of diffusion coefficients.\n",
    "    \"\"\"\n",
    "    return torch.tensor(sigma**t, device=device)\n",
    "  \n",
    "marginal_prob_std_fn = functools.partial(marginal_prob_std, sigma=sigma)\n",
    "diffusion_coeff_fn = functools.partial(diffusion_coeff, sigma=sigma)"
   ]
  },
  {
   "cell_type": "code",
   "execution_count": 34,
   "id": "1bf69e74-07d0-4622-beea-46c270e16e54",
   "metadata": {
    "tags": []
   },
   "outputs": [],
   "source": [
    "# ENTRAINEMENT \n",
    "torch.cuda.empty_cache()\n",
    "list_sigma = [5, 10, 50, 100, 500]\n",
    "# list_sigma = [25]\n",
    "n_epochs = 40\n",
    "for i in range(len(list_sigma)):\n",
    "    loss_list = []\n",
    "    sigma = list_sigma[i]\n",
    "\n",
    "    marginal_prob_std_fn = functools.partial(marginal_prob_std, sigma=sigma)\n",
    "    diffusion_coeff_fn = functools.partial(diffusion_coeff, sigma=sigma)\n",
    "    score_model = torch.nn.DataParallel(\n",
    "        n.ScoreNet(marginal_prob_std=marginal_prob_std_fn, channels=[16, 32, 64, 128], embed_dim=128, group_norm=16)\n",
    "    )\n",
    "    score_model = score_model.to(device)\n",
    "\n",
    "    optimizer = Adam(score_model.parameters(), lr=lr)\n",
    "    tqdm_epoch = tqdm.notebook.trange(n_epochs)\n",
    "    for epoch in tqdm_epoch:\n",
    "        avg_loss = 0.0\n",
    "        num_items = 0\n",
    "        for data in data_loader:\n",
    "            x, y = data[\"image\"], data[\"labels\"]\n",
    "            x = x.to(device)\n",
    "            loss = n.loss_fn(score_model, x, marginal_prob_std_fn)\n",
    "            optimizer.zero_grad()\n",
    "            loss.backward()\n",
    "            optimizer.step()\n",
    "            avg_loss += loss.item() * x.shape[0]\n",
    "            num_items += x.shape[0]\n",
    "        loss_list.append(avg_loss/num_items)\n",
    "        # Print the averaged training loss so far.\n",
    "        tqdm_epoch.set_description(\"Average Loss: {:5f}\".format(avg_loss / num_items))\n",
    "        # Update the checkpoint after each epoch of training.\n",
    "        torch.save(score_model.state_dict(), f\"params/ckpt_{sigma}_16_32_64_128.pth\")\n",
    "        print(avg_loss/num_items)\n",
    "    torch.save(loss_list, f\"loss_{sigma}_16_32_64_128.pth\")"
   ]
  },
  {
   "cell_type": "code",
   "execution_count": 2,
   "id": "bdaaaf1e-b04c-4855-bdb1-8ed0b8457bca",
   "metadata": {
    "tags": []
   },
   "outputs": [],
   "source": [
    "# GENERATION\n",
    "\n",
    "torch.cuda.empty_cache()\n",
    "snr = 0.1\n",
    "\n",
    "sigma = 5\n",
    "marginal_prob_std_fn = functools.partial(marginal_prob_std, sigma=sigma)\n",
    "diffusion_coeff_fn = functools.partial(diffusion_coeff, sigma=sigma)\n",
    "\n",
    "ckpt = torch.load(f\"params/ckpt_{sigma}_16_32_64_128.pth\", map_location=device)\n",
    "score_model = torch.nn.DataParallel(\n",
    "        n.ScoreNet(marginal_prob_std=marginal_prob_std_fn, channels=[16, 32, 64, 128], embed_dim=128, group_norm=16)\n",
    "    )\n",
    "score_model = score_model.to(device)\n",
    "score_model.load_state_dict(ckpt)\n",
    "\n",
    "from utils.sampler import ode_sampler, pc_sampler, Euler_Maruyama_sampler\n",
    "\n",
    "sampler = pc_sampler  # ['Euler_Maruyama_sampler', 'pc_sampler', 'ode_sampler']\n",
    "\n",
    "## Generate samples using the specified sampler.\n",
    "samples = sampler(\n",
    "    score_model,\n",
    "    marginal_prob_std_fn,\n",
    "    diffusion_coeff_fn,\n",
    "    sample_batch_size,\n",
    "    snr=snr,\n",
    "    device=device,\n",
    ")"
   ]
  },
  {
   "cell_type": "code",
   "execution_count": null,
   "id": "a057f4ad-461a-4257-819c-c78467a0736e",
   "metadata": {
    "tags": []
   },
   "outputs": [],
   "source": [
    "## Sample visualization.\n",
    "%matplotlib inline\n",
    "import matplotlib.pyplot as plt\n",
    "\n",
    "sample_grid = make_grid(samples, nrow=int(np.sqrt(sample_batch_size)))\n",
    "\n",
    "plt.figure(figsize=(10, 10))\n",
    "plt.axis(\"off\")\n",
    "plt.imshow(sample_grid.permute(1, 2, 0).cpu())\n",
    "plt.show()"
   ]
  }
 ],
 "metadata": {
  "kernelspec": {
   "display_name": "Python 3 (ipykernel)",
   "language": "python",
   "name": "python3"
  },
  "language_info": {
   "codemirror_mode": {
    "name": "ipython",
    "version": 3
   },
   "file_extension": ".py",
   "mimetype": "text/x-python",
   "name": "python",
   "nbconvert_exporter": "python",
   "pygments_lexer": "ipython3",
   "version": "3.10.9"
  }
 },
 "nbformat": 4,
 "nbformat_minor": 5
}
